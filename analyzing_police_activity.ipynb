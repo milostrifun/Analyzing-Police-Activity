{
 "cells": [
  {
   "cell_type": "code",
   "execution_count": 95,
   "id": "12befe4f-bb26-4070-8d76-3b9135784e66",
   "metadata": {},
   "outputs": [
    {
     "name": "stderr",
     "output_type": "stream",
     "text": [
      "/var/folders/z8/tmdw53fj61x2f7dqc_6smpcc0000gn/T/ipykernel_3242/998562074.py:5: DtypeWarning: Columns (6,17,30) have mixed types. Specify dtype option on import or set low_memory=False.\n",
      "  ri = pd.read_csv(\"police.csv\")\n"
     ]
    },
    {
     "data": {
      "text/plain": "   raw_row_number        date      time zone subject_race subject_sex  \\\n0               1  2005-11-22  11:15:00   X3        white        male   \n1               2  2005-10-01  12:20:00   X3        white        male   \n2               3  2005-10-01  12:30:00   X3        white      female   \n3               4  2005-10-01  12:50:00   X3        white        male   \n4               5  2005-10-01  13:10:00   X3        white      female   \n\n  department_id       type arrest_made citation_issued  ... reason_for_stop  \\\n0           200  vehicular       False            True  ...        Speeding   \n1           200  vehicular       False            True  ...        Speeding   \n2           200  vehicular       False            True  ...        Speeding   \n3           200  vehicular       False            True  ...        Speeding   \n4           200  vehicular       False            True  ...        Speeding   \n\n  vehicle_make vehicle_model raw_BasisForStop raw_OperatorRace  \\\n0          NaN           NaN               SP                W   \n1          NaN           NaN               SP                W   \n2          NaN           NaN               SP                W   \n3          NaN           NaN               SP                W   \n4          NaN           NaN               SP                W   \n\n  raw_OperatorSex raw_ResultOfStop raw_SearchResultOne  raw_SearchResultTwo  \\\n0               M                M                 NaN                  NaN   \n1               M                M                 NaN                  NaN   \n2               F                M                 NaN                  NaN   \n3               M                M                 NaN                  NaN   \n4               F                M                 NaN                  NaN   \n\n  raw_SearchResultThree  \n0                   NaN  \n1                   NaN  \n2                   NaN  \n3                   NaN  \n4                   NaN  \n\n[5 rows x 31 columns]",
      "text/html": "<div>\n<style scoped>\n    .dataframe tbody tr th:only-of-type {\n        vertical-align: middle;\n    }\n\n    .dataframe tbody tr th {\n        vertical-align: top;\n    }\n\n    .dataframe thead th {\n        text-align: right;\n    }\n</style>\n<table border=\"1\" class=\"dataframe\">\n  <thead>\n    <tr style=\"text-align: right;\">\n      <th></th>\n      <th>raw_row_number</th>\n      <th>date</th>\n      <th>time</th>\n      <th>zone</th>\n      <th>subject_race</th>\n      <th>subject_sex</th>\n      <th>department_id</th>\n      <th>type</th>\n      <th>arrest_made</th>\n      <th>citation_issued</th>\n      <th>...</th>\n      <th>reason_for_stop</th>\n      <th>vehicle_make</th>\n      <th>vehicle_model</th>\n      <th>raw_BasisForStop</th>\n      <th>raw_OperatorRace</th>\n      <th>raw_OperatorSex</th>\n      <th>raw_ResultOfStop</th>\n      <th>raw_SearchResultOne</th>\n      <th>raw_SearchResultTwo</th>\n      <th>raw_SearchResultThree</th>\n    </tr>\n  </thead>\n  <tbody>\n    <tr>\n      <th>0</th>\n      <td>1</td>\n      <td>2005-11-22</td>\n      <td>11:15:00</td>\n      <td>X3</td>\n      <td>white</td>\n      <td>male</td>\n      <td>200</td>\n      <td>vehicular</td>\n      <td>False</td>\n      <td>True</td>\n      <td>...</td>\n      <td>Speeding</td>\n      <td>NaN</td>\n      <td>NaN</td>\n      <td>SP</td>\n      <td>W</td>\n      <td>M</td>\n      <td>M</td>\n      <td>NaN</td>\n      <td>NaN</td>\n      <td>NaN</td>\n    </tr>\n    <tr>\n      <th>1</th>\n      <td>2</td>\n      <td>2005-10-01</td>\n      <td>12:20:00</td>\n      <td>X3</td>\n      <td>white</td>\n      <td>male</td>\n      <td>200</td>\n      <td>vehicular</td>\n      <td>False</td>\n      <td>True</td>\n      <td>...</td>\n      <td>Speeding</td>\n      <td>NaN</td>\n      <td>NaN</td>\n      <td>SP</td>\n      <td>W</td>\n      <td>M</td>\n      <td>M</td>\n      <td>NaN</td>\n      <td>NaN</td>\n      <td>NaN</td>\n    </tr>\n    <tr>\n      <th>2</th>\n      <td>3</td>\n      <td>2005-10-01</td>\n      <td>12:30:00</td>\n      <td>X3</td>\n      <td>white</td>\n      <td>female</td>\n      <td>200</td>\n      <td>vehicular</td>\n      <td>False</td>\n      <td>True</td>\n      <td>...</td>\n      <td>Speeding</td>\n      <td>NaN</td>\n      <td>NaN</td>\n      <td>SP</td>\n      <td>W</td>\n      <td>F</td>\n      <td>M</td>\n      <td>NaN</td>\n      <td>NaN</td>\n      <td>NaN</td>\n    </tr>\n    <tr>\n      <th>3</th>\n      <td>4</td>\n      <td>2005-10-01</td>\n      <td>12:50:00</td>\n      <td>X3</td>\n      <td>white</td>\n      <td>male</td>\n      <td>200</td>\n      <td>vehicular</td>\n      <td>False</td>\n      <td>True</td>\n      <td>...</td>\n      <td>Speeding</td>\n      <td>NaN</td>\n      <td>NaN</td>\n      <td>SP</td>\n      <td>W</td>\n      <td>M</td>\n      <td>M</td>\n      <td>NaN</td>\n      <td>NaN</td>\n      <td>NaN</td>\n    </tr>\n    <tr>\n      <th>4</th>\n      <td>5</td>\n      <td>2005-10-01</td>\n      <td>13:10:00</td>\n      <td>X3</td>\n      <td>white</td>\n      <td>female</td>\n      <td>200</td>\n      <td>vehicular</td>\n      <td>False</td>\n      <td>True</td>\n      <td>...</td>\n      <td>Speeding</td>\n      <td>NaN</td>\n      <td>NaN</td>\n      <td>SP</td>\n      <td>W</td>\n      <td>F</td>\n      <td>M</td>\n      <td>NaN</td>\n      <td>NaN</td>\n      <td>NaN</td>\n    </tr>\n  </tbody>\n</table>\n<p>5 rows × 31 columns</p>\n</div>"
     },
     "execution_count": 95,
     "metadata": {},
     "output_type": "execute_result"
    }
   ],
   "source": [
    "# Import the pandas library as pd\n",
    "import pandas as pd\n",
    "\n",
    "# Read 'police.csv' into a DataFrame named ri\n",
    "ri = pd.read_csv(\"police.csv\")\n",
    "\n",
    "# Examine the head of the DataFrame\n",
    "ri.head()"
   ]
  },
  {
   "cell_type": "code",
   "execution_count": 96,
   "id": "9325af6d-dd82-4703-83e3-19de266835be",
   "metadata": {},
   "outputs": [
    {
     "data": {
      "text/plain": "raw_row_number                0\ndate                         10\ntime                         10\nzone                         10\nsubject_race              29073\nsubject_sex               29097\ndepartment_id                10\ntype                          0\narrest_made               29073\ncitation_issued           29073\nwarning_issued            29073\noutcome                   35841\ncontraband_found         491919\ncontraband_drugs         493693\ncontraband_weapons       497886\ncontraband_alcohol       508464\ncontraband_other         491919\nfrisk_performed              10\nsearch_conducted              0\nsearch_basis             491919\nreason_for_search        491919\nreason_for_stop           29073\nvehicle_make             191564\nvehicle_model            279593\nraw_BasisForStop          29073\nraw_OperatorRace          29073\nraw_OperatorSex           29073\nraw_ResultOfStop          29073\nraw_SearchResultOne      491919\nraw_SearchResultTwo      508862\nraw_SearchResultThree    509513\ndtype: int64"
     },
     "execution_count": 96,
     "metadata": {},
     "output_type": "execute_result"
    }
   ],
   "source": [
    "# Count the number of missing values in each column\n",
    "ri.isnull().sum()"
   ]
  },
  {
   "cell_type": "code",
   "execution_count": 97,
   "outputs": [
    {
     "data": {
      "text/plain": "(509681, 31)"
     },
     "execution_count": 97,
     "metadata": {},
     "output_type": "execute_result"
    }
   ],
   "source": [
    "# Examine the shape of the DataFrame\n",
    "ri.shape"
   ],
   "metadata": {
    "collapsed": false
   }
  },
  {
   "cell_type": "code",
   "execution_count": 98,
   "outputs": [
    {
     "data": {
      "text/plain": "raw_row_number                0\ndate                          0\ntime                          0\nzone                          0\nsubject_race                  0\nsubject_sex                   0\ndepartment_id                 0\ntype                          0\narrest_made                   0\ncitation_issued               0\nwarning_issued                0\noutcome                    6763\ncontraband_found         462822\ncontraband_drugs         464596\ncontraband_weapons       468789\ncontraband_alcohol       479367\ncontraband_other         462822\nfrisk_performed               0\nsearch_conducted              0\nsearch_basis             462822\nreason_for_search        462822\nreason_for_stop               0\nvehicle_make             162525\nvehicle_model            250553\nraw_BasisForStop              0\nraw_OperatorRace              0\nraw_OperatorSex               0\nraw_ResultOfStop              0\nraw_SearchResultOne      462822\nraw_SearchResultTwo      479765\nraw_SearchResultThree    480416\ndtype: int64"
     },
     "execution_count": 98,
     "metadata": {},
     "output_type": "execute_result"
    }
   ],
   "source": [
    "# Drop all rows that are missing 'subject_sex'\n",
    "ri.dropna(subset=[\"subject_sex\"],inplace=True)\n",
    "\n",
    "# Count the number of missing values in each column\n",
    "ri.isnull().sum()"
   ],
   "metadata": {
    "collapsed": false
   }
  },
  {
   "cell_type": "code",
   "execution_count": 99,
   "outputs": [
    {
     "data": {
      "text/plain": "(480584, 31)"
     },
     "execution_count": 99,
     "metadata": {},
     "output_type": "execute_result"
    }
   ],
   "source": [
    "# Examine the shape of the DataFrame\n",
    "ri.shape"
   ],
   "metadata": {
    "collapsed": false
   }
  },
  {
   "cell_type": "code",
   "execution_count": 100,
   "outputs": [
    {
     "data": {
      "text/plain": "raw_row_number            int64\ndate                     object\ntime                     object\nzone                     object\nsubject_race             object\nsubject_sex              object\ndepartment_id            object\ntype                     object\narrest_made              object\ncitation_issued          object\nwarning_issued           object\noutcome                  object\ncontraband_found         object\ncontraband_drugs         object\ncontraband_weapons       object\ncontraband_alcohol       object\ncontraband_other         object\nfrisk_performed          object\nsearch_conducted           bool\nsearch_basis             object\nreason_for_search        object\nreason_for_stop          object\nvehicle_make             object\nvehicle_model            object\nraw_BasisForStop         object\nraw_OperatorRace         object\nraw_OperatorSex          object\nraw_ResultOfStop         object\nraw_SearchResultOne      object\nraw_SearchResultTwo      object\nraw_SearchResultThree    object\ndtype: object"
     },
     "execution_count": 100,
     "metadata": {},
     "output_type": "execute_result"
    }
   ],
   "source": [
    "ri.dtypes"
   ],
   "metadata": {
    "collapsed": false
   }
  },
  {
   "cell_type": "code",
   "execution_count": 101,
   "outputs": [
    {
     "data": {
      "text/plain": "0    False\n1    False\n2    False\n3    False\n4    False\nName: arrest_made, dtype: object"
     },
     "execution_count": 101,
     "metadata": {},
     "output_type": "execute_result"
    }
   ],
   "source": [
    "# Examine the head of the 'arrest_made' column\n",
    "ri[\"arrest_made\"].head()"
   ],
   "metadata": {
    "collapsed": false
   }
  },
  {
   "cell_type": "code",
   "execution_count": 102,
   "outputs": [
    {
     "data": {
      "text/plain": "dtype('bool')"
     },
     "execution_count": 102,
     "metadata": {},
     "output_type": "execute_result"
    }
   ],
   "source": [
    "# Change the data type of 'arrest_made' to 'bool'\n",
    "ri[\"arrest_made\"] = ri[\"arrest_made\"].astype('bool')\n",
    "\n",
    "# Check data type if 'arrest_made'\n",
    "ri[\"arrest_made\"].dtype"
   ],
   "metadata": {
    "collapsed": false
   }
  },
  {
   "cell_type": "code",
   "execution_count": 103,
   "outputs": [
    {
     "data": {
      "text/plain": "   raw_row_number        date      time zone subject_race subject_sex  \\\n0               1  2005-11-22  11:15:00   X3        white        male   \n1               2  2005-10-01  12:20:00   X3        white        male   \n2               3  2005-10-01  12:30:00   X3        white      female   \n3               4  2005-10-01  12:50:00   X3        white        male   \n4               5  2005-10-01  13:10:00   X3        white      female   \n\n  department_id       type  arrest_made citation_issued  ... reason_for_stop  \\\n0           200  vehicular        False            True  ...        Speeding   \n1           200  vehicular        False            True  ...        Speeding   \n2           200  vehicular        False            True  ...        Speeding   \n3           200  vehicular        False            True  ...        Speeding   \n4           200  vehicular        False            True  ...        Speeding   \n\n  vehicle_make vehicle_model raw_BasisForStop raw_OperatorRace  \\\n0          NaN           NaN               SP                W   \n1          NaN           NaN               SP                W   \n2          NaN           NaN               SP                W   \n3          NaN           NaN               SP                W   \n4          NaN           NaN               SP                W   \n\n  raw_OperatorSex raw_ResultOfStop raw_SearchResultOne  raw_SearchResultTwo  \\\n0               M                M                 NaN                  NaN   \n1               M                M                 NaN                  NaN   \n2               F                M                 NaN                  NaN   \n3               M                M                 NaN                  NaN   \n4               F                M                 NaN                  NaN   \n\n  raw_SearchResultThree  \n0                   NaN  \n1                   NaN  \n2                   NaN  \n3                   NaN  \n4                   NaN  \n\n[5 rows x 31 columns]",
      "text/html": "<div>\n<style scoped>\n    .dataframe tbody tr th:only-of-type {\n        vertical-align: middle;\n    }\n\n    .dataframe tbody tr th {\n        vertical-align: top;\n    }\n\n    .dataframe thead th {\n        text-align: right;\n    }\n</style>\n<table border=\"1\" class=\"dataframe\">\n  <thead>\n    <tr style=\"text-align: right;\">\n      <th></th>\n      <th>raw_row_number</th>\n      <th>date</th>\n      <th>time</th>\n      <th>zone</th>\n      <th>subject_race</th>\n      <th>subject_sex</th>\n      <th>department_id</th>\n      <th>type</th>\n      <th>arrest_made</th>\n      <th>citation_issued</th>\n      <th>...</th>\n      <th>reason_for_stop</th>\n      <th>vehicle_make</th>\n      <th>vehicle_model</th>\n      <th>raw_BasisForStop</th>\n      <th>raw_OperatorRace</th>\n      <th>raw_OperatorSex</th>\n      <th>raw_ResultOfStop</th>\n      <th>raw_SearchResultOne</th>\n      <th>raw_SearchResultTwo</th>\n      <th>raw_SearchResultThree</th>\n    </tr>\n  </thead>\n  <tbody>\n    <tr>\n      <th>0</th>\n      <td>1</td>\n      <td>2005-11-22</td>\n      <td>11:15:00</td>\n      <td>X3</td>\n      <td>white</td>\n      <td>male</td>\n      <td>200</td>\n      <td>vehicular</td>\n      <td>False</td>\n      <td>True</td>\n      <td>...</td>\n      <td>Speeding</td>\n      <td>NaN</td>\n      <td>NaN</td>\n      <td>SP</td>\n      <td>W</td>\n      <td>M</td>\n      <td>M</td>\n      <td>NaN</td>\n      <td>NaN</td>\n      <td>NaN</td>\n    </tr>\n    <tr>\n      <th>1</th>\n      <td>2</td>\n      <td>2005-10-01</td>\n      <td>12:20:00</td>\n      <td>X3</td>\n      <td>white</td>\n      <td>male</td>\n      <td>200</td>\n      <td>vehicular</td>\n      <td>False</td>\n      <td>True</td>\n      <td>...</td>\n      <td>Speeding</td>\n      <td>NaN</td>\n      <td>NaN</td>\n      <td>SP</td>\n      <td>W</td>\n      <td>M</td>\n      <td>M</td>\n      <td>NaN</td>\n      <td>NaN</td>\n      <td>NaN</td>\n    </tr>\n    <tr>\n      <th>2</th>\n      <td>3</td>\n      <td>2005-10-01</td>\n      <td>12:30:00</td>\n      <td>X3</td>\n      <td>white</td>\n      <td>female</td>\n      <td>200</td>\n      <td>vehicular</td>\n      <td>False</td>\n      <td>True</td>\n      <td>...</td>\n      <td>Speeding</td>\n      <td>NaN</td>\n      <td>NaN</td>\n      <td>SP</td>\n      <td>W</td>\n      <td>F</td>\n      <td>M</td>\n      <td>NaN</td>\n      <td>NaN</td>\n      <td>NaN</td>\n    </tr>\n    <tr>\n      <th>3</th>\n      <td>4</td>\n      <td>2005-10-01</td>\n      <td>12:50:00</td>\n      <td>X3</td>\n      <td>white</td>\n      <td>male</td>\n      <td>200</td>\n      <td>vehicular</td>\n      <td>False</td>\n      <td>True</td>\n      <td>...</td>\n      <td>Speeding</td>\n      <td>NaN</td>\n      <td>NaN</td>\n      <td>SP</td>\n      <td>W</td>\n      <td>M</td>\n      <td>M</td>\n      <td>NaN</td>\n      <td>NaN</td>\n      <td>NaN</td>\n    </tr>\n    <tr>\n      <th>4</th>\n      <td>5</td>\n      <td>2005-10-01</td>\n      <td>13:10:00</td>\n      <td>X3</td>\n      <td>white</td>\n      <td>female</td>\n      <td>200</td>\n      <td>vehicular</td>\n      <td>False</td>\n      <td>True</td>\n      <td>...</td>\n      <td>Speeding</td>\n      <td>NaN</td>\n      <td>NaN</td>\n      <td>SP</td>\n      <td>W</td>\n      <td>F</td>\n      <td>M</td>\n      <td>NaN</td>\n      <td>NaN</td>\n      <td>NaN</td>\n    </tr>\n  </tbody>\n</table>\n<p>5 rows × 31 columns</p>\n</div>"
     },
     "execution_count": 103,
     "metadata": {},
     "output_type": "execute_result"
    }
   ],
   "source": [
    "ri.head()"
   ],
   "metadata": {
    "collapsed": false
   }
  },
  {
   "cell_type": "code",
   "execution_count": 104,
   "outputs": [],
   "source": [
    "ri = ri.drop([\"contraband_other\",\"vehicle_make\",\"vehicle_model\",\"raw_BasisForStop\",\"raw_OperatorRace\",\"raw_OperatorSex\",\"raw_SearchResultOne\",\"raw_SearchResultTwo\",\"raw_SearchResultThree\",\"department_id\",\"contraband_other\",\"contraband_alcohol\",\"contraband_drugs\",\"contraband_weapons\"],axis=1)"
   ],
   "metadata": {
    "collapsed": false
   }
  },
  {
   "cell_type": "code",
   "execution_count": 105,
   "outputs": [],
   "source": [
    "# Concatenate 'date' and 'time' (separated by a space)\n",
    "combined = ri[\"date\"].str.cat(ri[\"time\"], sep=\" \")\n",
    "\n",
    "# Convert 'combined' to datetime format\n",
    "ri[\"stop_datetime\"] = pd.to_datetime(combined)"
   ],
   "metadata": {
    "collapsed": false
   }
  },
  {
   "cell_type": "code",
   "execution_count": 106,
   "outputs": [
    {
     "data": {
      "text/plain": "raw_row_number                int64\ndate                         object\ntime                         object\nzone                         object\nsubject_race                 object\nsubject_sex                  object\ntype                         object\narrest_made                    bool\ncitation_issued              object\nwarning_issued               object\noutcome                      object\ncontraband_found             object\nfrisk_performed              object\nsearch_conducted               bool\nsearch_basis                 object\nreason_for_search            object\nreason_for_stop              object\nraw_ResultOfStop             object\nstop_datetime        datetime64[ns]\ndtype: object"
     },
     "execution_count": 106,
     "metadata": {},
     "output_type": "execute_result"
    }
   ],
   "source": [
    "# Check the types of data frame\n",
    "ri.dtypes"
   ],
   "metadata": {
    "collapsed": false
   }
  },
  {
   "cell_type": "code",
   "execution_count": 107,
   "outputs": [],
   "source": [
    "# Set 'stop_datetime' as the index\n",
    "ri.set_index(\"stop_datetime\", inplace=True)"
   ],
   "metadata": {
    "collapsed": false
   }
  },
  {
   "cell_type": "code",
   "execution_count": 108,
   "outputs": [
    {
     "data": {
      "text/plain": "DatetimeIndex(['2005-11-22 11:15:00', '2005-10-01 12:20:00',\n               '2005-10-01 12:30:00', '2005-10-01 12:50:00',\n               '2005-10-01 13:10:00', '2005-10-01 15:50:00',\n               '2005-09-11 11:45:00', '2005-09-11 11:45:00',\n               '2005-10-04 11:55:00', '2005-10-04 11:55:00',\n               ...\n               '2015-12-29 13:28:00', '2015-12-27 12:45:00',\n               '2015-12-27 13:43:00', '2015-12-28 02:29:00',\n               '2015-12-30 11:42:00', '2015-08-16 13:37:00',\n               '2015-08-04 10:40:00', '2015-12-20 11:17:00',\n               '2015-11-09 23:35:00', '2015-10-30 11:09:00'],\n              dtype='datetime64[ns]', name='stop_datetime', length=480584, freq=None)"
     },
     "execution_count": 108,
     "metadata": {},
     "output_type": "execute_result"
    }
   ],
   "source": [
    "# Examine index\n",
    "ri.index\n"
   ],
   "metadata": {
    "collapsed": false
   }
  },
  {
   "cell_type": "code",
   "execution_count": 109,
   "outputs": [
    {
     "data": {
      "text/plain": "Index(['raw_row_number', 'date', 'time', 'zone', 'subject_race', 'subject_sex',\n       'type', 'arrest_made', 'citation_issued', 'warning_issued', 'outcome',\n       'contraband_found', 'frisk_performed', 'search_conducted',\n       'search_basis', 'reason_for_search', 'reason_for_stop',\n       'raw_ResultOfStop'],\n      dtype='object')"
     },
     "execution_count": 109,
     "metadata": {},
     "output_type": "execute_result"
    }
   ],
   "source": [
    "# Examine columns to check that stop_datetime is no longer there\n",
    "ri.columns"
   ],
   "metadata": {
    "collapsed": false
   }
  },
  {
   "cell_type": "code",
   "execution_count": 110,
   "outputs": [
    {
     "data": {
      "text/plain": "Speeding                            268736\nOther Traffic Violation              90228\nEquipment/Inspection Violation       61250\nRegistration Violation               19830\nSeatbelt Violation                   16324\nSpecial Detail/Directed Patrol       13642\nCall for Service                      7605\nViolation of City/Town Ordinance      1036\nMotorist Assist/Courtesy               989\nAPB                                    485\nSuspicious Person                      342\nWarrant                                117\nName: reason_for_stop, dtype: int64"
     },
     "execution_count": 110,
     "metadata": {},
     "output_type": "execute_result"
    }
   ],
   "source": [
    "# Count of violation being committed\n",
    "ri[\"reason_for_stop\"].value_counts()"
   ],
   "metadata": {
    "collapsed": false
   }
  },
  {
   "cell_type": "markdown",
   "source": [
    "COMPARING VIOLATIONS BY GENDER"
   ],
   "metadata": {
    "collapsed": false
   }
  },
  {
   "cell_type": "code",
   "execution_count": 111,
   "outputs": [],
   "source": [
    "# Create a DataFrame of female drivers\n",
    "female = ri[ri[\"subject_sex\"] == \"female\"]\n",
    "\n",
    "# Create a DataFrame of male drivers\n",
    "male = ri[ri[\"subject_sex\"] == 'male']"
   ],
   "metadata": {
    "collapsed": false
   }
  },
  {
   "cell_type": "code",
   "execution_count": 112,
   "outputs": [
    {
     "data": {
      "text/plain": "Speeding                            0.657308\nOther Traffic Violation             0.136581\nEquipment/Inspection Violation      0.107055\nRegistration Violation              0.043077\nSeatbelt Violation                  0.027071\nCall for Service                    0.018057\nSpecial Detail/Directed Patrol      0.005071\nMotorist Assist/Courtesy            0.002532\nViolation of City/Town Ordinance    0.001647\nAPB                                 0.000831\nSuspicious Person                   0.000564\nWarrant                             0.000206\nName: reason_for_stop, dtype: float64"
     },
     "execution_count": 112,
     "metadata": {},
     "output_type": "execute_result"
    }
   ],
   "source": [
    "# Compute the violation by female drivers (as proportions)\n",
    "female[\"reason_for_stop\"].value_counts(normalize=True)"
   ],
   "metadata": {
    "collapsed": false
   }
  },
  {
   "cell_type": "code",
   "execution_count": 113,
   "outputs": [
    {
     "data": {
      "text/plain": "Speeding                            0.522364\nOther Traffic Violation             0.206948\nEquipment/Inspection Violation      0.135102\nRegistration Violation              0.040581\nSpecial Detail/Directed Patrol      0.037136\nSeatbelt Violation                  0.036555\nCall for Service                    0.014987\nViolation of City/Town Ordinance    0.002347\nMotorist Assist/Courtesy            0.001880\nAPB                                 0.001076\nSuspicious Person                   0.000767\nWarrant                             0.000258\nName: reason_for_stop, dtype: float64"
     },
     "execution_count": 113,
     "metadata": {},
     "output_type": "execute_result"
    }
   ],
   "source": [
    "# Compute the violation by male drivers (as proportions)\n",
    "male[\"reason_for_stop\"].value_counts(normalize=True)"
   ],
   "metadata": {
    "collapsed": false
   }
  },
  {
   "cell_type": "code",
   "execution_count": 114,
   "outputs": [
    {
     "data": {
      "text/plain": "Speeding                            268736\nOther Traffic Violation              90228\nEquipment/Inspection Violation       61250\nRegistration Violation               19830\nSeatbelt Violation                   16324\nSpecial Detail/Directed Patrol       13642\nCall for Service                      7605\nViolation of City/Town Ordinance      1036\nMotorist Assist/Courtesy               989\nAPB                                    485\nSuspicious Person                      342\nWarrant                                117\nName: reason_for_stop, dtype: int64"
     },
     "execution_count": 114,
     "metadata": {},
     "output_type": "execute_result"
    }
   ],
   "source": [
    "ri[\"reason_for_stop\"].value_counts()"
   ],
   "metadata": {
    "collapsed": false
   }
  },
  {
   "cell_type": "markdown",
   "source": [
    "COMPARING SPEEDING OUTCOMES BY GENDER"
   ],
   "metadata": {
    "collapsed": false
   }
  },
  {
   "cell_type": "code",
   "execution_count": 115,
   "outputs": [],
   "source": [
    "# Create a DataFrame of female drivers stopped for speeding\n",
    "female_and_speeding = ri[(ri[\"reason_for_stop\"] == \"Speeding\") & (ri[\"subject_sex\"] == \"female\")]\n",
    "\n",
    "# Create a DataFrame of male drivers stopped for speeding\n",
    "male_and_speeding = ri[(ri[\"reason_for_stop\"] == \"Speeding\") & (ri[\"subject_sex\"] == \"male\")]"
   ],
   "metadata": {
    "collapsed": false
   }
  },
  {
   "cell_type": "code",
   "execution_count": 116,
   "outputs": [
    {
     "data": {
      "text/plain": "citation    0.954609\nwarning     0.039059\narrest      0.006332\nName: outcome, dtype: float64"
     },
     "execution_count": 116,
     "metadata": {},
     "output_type": "execute_result"
    }
   ],
   "source": [
    "# Compute the stop outcomes for female drivers (as proportions)\n",
    "female_and_speeding[\"outcome\"].value_counts(normalize=True)"
   ],
   "metadata": {
    "collapsed": false
   }
  },
  {
   "cell_type": "code",
   "execution_count": 117,
   "outputs": [
    {
     "data": {
      "text/plain": "citation    0.946763\nwarning     0.036167\narrest      0.017070\nName: outcome, dtype: float64"
     },
     "execution_count": 117,
     "metadata": {},
     "output_type": "execute_result"
    }
   ],
   "source": [
    "# Compute the stop outcomes for male drivers (as proportions)\n",
    "male_and_speeding[\"outcome\"].value_counts(normalize=True)"
   ],
   "metadata": {
    "collapsed": false
   }
  },
  {
   "cell_type": "markdown",
   "source": [
    "COMPARING VEHICLE SEARCHES BY GENDER"
   ],
   "metadata": {
    "collapsed": false
   }
  },
  {
   "cell_type": "code",
   "execution_count": 118,
   "outputs": [
    {
     "data": {
      "text/plain": "dtype('bool')"
     },
     "execution_count": 118,
     "metadata": {},
     "output_type": "execute_result"
    }
   ],
   "source": [
    "# Check the data type of 'search_conducted'\n",
    "ri[\"search_conducted\"].dtype"
   ],
   "metadata": {
    "collapsed": false
   }
  },
  {
   "cell_type": "code",
   "execution_count": 119,
   "outputs": [
    {
     "data": {
      "text/plain": "False    0.963041\nTrue     0.036959\nName: search_conducted, dtype: float64"
     },
     "execution_count": 119,
     "metadata": {},
     "output_type": "execute_result"
    }
   ],
   "source": [
    "# Calculate the search rate by counting the values\n",
    "ri[\"search_conducted\"].value_counts(normalize=True)"
   ],
   "metadata": {
    "collapsed": false
   }
  },
  {
   "cell_type": "code",
   "execution_count": 120,
   "outputs": [
    {
     "data": {
      "text/plain": "0.036959199640437465"
     },
     "execution_count": 120,
     "metadata": {},
     "output_type": "execute_result"
    }
   ],
   "source": [
    "# Calculate the search rate by taking the mean\n",
    "ri[\"search_conducted\"].mean()"
   ],
   "metadata": {
    "collapsed": false
   }
  },
  {
   "cell_type": "code",
   "execution_count": 121,
   "outputs": [
    {
     "data": {
      "text/plain": "0.018751239152648355"
     },
     "execution_count": 121,
     "metadata": {},
     "output_type": "execute_result"
    }
   ],
   "source": [
    "# Calculate the search rate for female drivers\n",
    "ri[ri[\"subject_sex\"] == \"female\"][\"search_conducted\"].mean()"
   ],
   "metadata": {
    "collapsed": false
   }
  },
  {
   "cell_type": "code",
   "execution_count": 122,
   "outputs": [
    {
     "data": {
      "text/plain": "0.04379217389811301"
     },
     "execution_count": 122,
     "metadata": {},
     "output_type": "execute_result"
    }
   ],
   "source": [
    "# Calculate the search rate for male drivers\n",
    "ri[ri[\"subject_sex\"] == \"male\"][\"search_conducted\"].mean()"
   ],
   "metadata": {
    "collapsed": false
   }
  },
  {
   "cell_type": "code",
   "execution_count": 123,
   "outputs": [
    {
     "data": {
      "text/plain": "subject_sex\nfemale    0.018751\nmale      0.043792\nName: search_conducted, dtype: float64"
     },
     "execution_count": 123,
     "metadata": {},
     "output_type": "execute_result"
    }
   ],
   "source": [
    "# Calculate the search rate for both groups simultaneously\n",
    "ri.groupby(\"subject_sex\").search_conducted.mean()"
   ],
   "metadata": {
    "collapsed": false
   }
  },
  {
   "cell_type": "code",
   "execution_count": 124,
   "outputs": [
    {
     "data": {
      "text/plain": "subject_sex  reason_for_stop                 \nfemale       APB                                 0.165138\n             Call for Service                    0.042230\n             Equipment/Inspection Violation      0.040245\n             Motorist Assist/Courtesy            0.033133\n             Other Traffic Violation             0.038021\n             Registration Violation              0.054700\n             Seatbelt Violation                  0.017746\n             Special Detail/Directed Patrol      0.018045\n             Speeding                            0.007738\n             Suspicious Person                   0.216216\n             Violation of City/Town Ordinance    0.060185\n             Warrant                             0.148148\nmale         APB                                 0.255319\n             Call for Service                    0.092419\n             Equipment/Inspection Violation      0.070916\n             Motorist Assist/Courtesy            0.089802\n             Other Traffic Violation             0.059156\n             Registration Violation              0.103589\n             Seatbelt Violation                  0.031705\n             Special Detail/Directed Patrol      0.010249\n             Speeding                            0.026630\n             Suspicious Person                   0.305970\n             Violation of City/Town Ordinance    0.073171\n             Warrant                             0.311111\nName: search_conducted, dtype: float64"
     },
     "execution_count": 124,
     "metadata": {},
     "output_type": "execute_result"
    }
   ],
   "source": [
    "# Calculate the search rate for each combination of gender and violation\n",
    "ri.groupby([\"subject_sex\",\"reason_for_stop\"])[\"search_conducted\"].mean()"
   ],
   "metadata": {
    "collapsed": false
   }
  },
  {
   "cell_type": "code",
   "execution_count": 125,
   "outputs": [
    {
     "data": {
      "text/plain": "reason_for_stop                   subject_sex\nAPB                               female         0.165138\n                                  male           0.255319\nCall for Service                  female         0.042230\n                                  male           0.092419\nEquipment/Inspection Violation    female         0.040245\n                                  male           0.070916\nMotorist Assist/Courtesy          female         0.033133\n                                  male           0.089802\nOther Traffic Violation           female         0.038021\n                                  male           0.059156\nRegistration Violation            female         0.054700\n                                  male           0.103589\nSeatbelt Violation                female         0.017746\n                                  male           0.031705\nSpecial Detail/Directed Patrol    female         0.018045\n                                  male           0.010249\nSpeeding                          female         0.007738\n                                  male           0.026630\nSuspicious Person                 female         0.216216\n                                  male           0.305970\nViolation of City/Town Ordinance  female         0.060185\n                                  male           0.073171\nWarrant                           female         0.148148\n                                  male           0.311111\nName: search_conducted, dtype: float64"
     },
     "execution_count": 125,
     "metadata": {},
     "output_type": "execute_result"
    }
   ],
   "source": [
    "# Reverse the ordering to group by violation before gender\n",
    "ri.groupby([\"reason_for_stop\",\"subject_sex\"])[\"search_conducted\"].mean()"
   ],
   "metadata": {
    "collapsed": false
   }
  },
  {
   "cell_type": "markdown",
   "source": [
    "COMPARING FRISK RATE BY GENDER"
   ],
   "metadata": {
    "collapsed": false
   }
  },
  {
   "cell_type": "code",
   "execution_count": 131,
   "outputs": [
    {
     "data": {
      "text/plain": "False    471262\nTrue       9322\nName: frisk_performed, dtype: int64"
     },
     "execution_count": 131,
     "metadata": {},
     "output_type": "execute_result"
    }
   ],
   "source": [
    "ri[\"frisk_performed\"].value_counts()"
   ],
   "metadata": {
    "collapsed": false
   }
  },
  {
   "cell_type": "code",
   "execution_count": 133,
   "outputs": [
    {
     "data": {
      "text/plain": "0.5248282851030289"
     },
     "execution_count": 133,
     "metadata": {},
     "output_type": "execute_result"
    }
   ],
   "source": [
    "# Create a DataFrame of stops in which a search was conducted\n",
    "searched = ri[ri[\"search_conducted\"] == True]\n",
    "\n",
    "# Calculate the overall frisk rate by taking the mean of frisk\n",
    "searched[\"frisk_performed\"].mean()"
   ],
   "metadata": {
    "collapsed": false
   }
  },
  {
   "cell_type": "code",
   "execution_count": 134,
   "outputs": [
    {
     "name": "stdout",
     "output_type": "stream",
     "text": [
      "subject_sex\n",
      "female    0.437983\n",
      "male      0.538783\n",
      "Name: frisk_performed, dtype: float64\n"
     ]
    }
   ],
   "source": [
    "# Calculate the frisk rate for each gender\n",
    "print(searched.groupby(\"subject_sex\")[\"frisk_performed\"].mean())"
   ],
   "metadata": {
    "collapsed": false
   }
  },
  {
   "cell_type": "code",
   "execution_count": null,
   "outputs": [],
   "source": [],
   "metadata": {
    "collapsed": false
   }
  }
 ],
 "metadata": {
  "colab": {
   "name": "Welcome to DataCamp Workspaces.ipynb",
   "provenance": []
  },
  "kernelspec": {
   "display_name": "Python 3 (ipykernel)",
   "language": "python",
   "name": "python3"
  },
  "language_info": {
   "codemirror_mode": {
    "name": "ipython",
    "version": 3
   },
   "file_extension": ".py",
   "mimetype": "text/x-python",
   "name": "python",
   "nbconvert_exporter": "python",
   "pygments_lexer": "ipython3",
   "version": "3.9.13"
  }
 },
 "nbformat": 4,
 "nbformat_minor": 5
}
